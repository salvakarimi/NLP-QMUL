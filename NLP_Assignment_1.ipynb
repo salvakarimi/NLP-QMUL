{
  "cells": [
    {
      "cell_type": "markdown",
      "metadata": {
        "id": "bzccp0LG2RSO"
      },
      "source": [
        "# NLP Assignment 1 (40% of grade): Sentiment Analysis from Tweets\n",
        "\n",
        "This coursework will involve you implementing functions for a text classifier, which you will train to identify the **sentiment expressed in a text** in a dataset of approx. 27,000 entries, which will be split into a 80%/20% training/test split.\n",
        "\n",
        "In this template you are given the basis for that implementation, though some of the functions are missing, which you have to fill in.\n",
        "\n",
        "Follow the instructions file **NLP_Assignment_1_Instructions.pdf** for details of each question - the outline of what needs to be achieved for each question is as below.\n",
        "\n",
        "You must submit all **ipython notebooks and extra resources you need to run the code if you've added them** in the code submission, and a **2 page report (pdf)** in the report submission on QMPlus where you report your methods and findings according to the instructions file for each question."
      ]
    },
    {
      "cell_type": "code",
      "execution_count": 1,
      "metadata": {
        "id": "-8FBv55A2RSP"
      },
      "outputs": [],
      "source": [
        "import csv                               # csv reader\n",
        "from sklearn.svm import LinearSVC\n",
        "from nltk.classify import SklearnClassifier\n",
        "from sklearn.pipeline import Pipeline\n",
        "from sklearn.metrics import precision_recall_fscore_support # to report on precision and recall\n",
        "import numpy as np\n",
        "import re"
      ]
    },
    {
      "cell_type": "code",
      "execution_count": 34,
      "metadata": {
        "id": "KhL1a-IV2RSP"
      },
      "outputs": [],
      "source": [
        "def load_data(path):\n",
        "    \"\"\"Load data from a tab-separated file and append it to raw_data.\"\"\"\n",
        "    with open(path) as f:\n",
        "        reader = csv.reader(f, delimiter='\\t')\n",
        "        for line in reader:\n",
        "            if line[0] == \"Id\":  # skip header\n",
        "                continue\n",
        "            (label, text) = parse_data_line(line)\n",
        "            raw_data.append((text, label))\n",
        "    #print(raw_data)\n",
        "\n",
        "def split_and_preprocess_data(percentage):\n",
        "    \"\"\"Split the data between train_data and test_data according to the percentage\n",
        "    and performs the preprocessing.\"\"\"\n",
        "    num_samples = len(raw_data)\n",
        "    num_training_samples = int((percentage * num_samples))\n",
        "    for (text, label) in raw_data[:num_training_samples]:\n",
        "        train_data.append((to_feature_vector(pre_process(text)),label))\n",
        "    for (text, label) in raw_data[num_training_samples:]:\n",
        "        test_data.append((to_feature_vector(pre_process(text)),label))\n"
      ]
    },
    {
      "cell_type": "markdown",
      "metadata": {
        "id": "t2Lzxb7K2RSP"
      },
      "source": [
        "# Question 1: Input and Basic preprocessing (10 marks)"
      ]
    },
    {
      "cell_type": "code",
      "execution_count": 3,
      "metadata": {
        "id": "P1RAoQgc2RSP"
      },
      "outputs": [],
      "source": [
        "def parse_data_line(data_line):\n",
        "    # Should return a tuple of the label as just positive or negative and the statement\n",
        "    # e.g. (label, statement)\n",
        "    #for each line, the label is the second item and the statement is the third\n",
        "    label = data_line[1]\n",
        "    statement = data_line[2]\n",
        "    return (label, statement)"
      ]
    },
    {
      "cell_type": "code",
      "execution_count": 4,
      "metadata": {
        "id": "Y-kiKR2_2RSP"
      },
      "outputs": [],
      "source": [
        "\n",
        "# Input: a string of one statement\n",
        "def pre_process(text):\n",
        "    # Should return a list of tokens\n",
        "    # DESCRIBE YOUR METHOD IN WORDS\n",
        "    # Converting the text to lowercase\n",
        "    text = text.lower()\n",
        "\n",
        "    #Remove punctuation\n",
        "    text = re.sub(r'[^\\w\\s]', '', text)\n",
        "\n",
        "    #Tokenize by splitting on whitespace\n",
        "    tokens = text.split()\n",
        "\n",
        "    return tokens\n",
        "\n"
      ]
    },
    {
      "cell_type": "markdown",
      "metadata": {
        "id": "yIKnYeSO2RSP"
      },
      "source": [
        "# Question 2: Basic Feature Extraction (20 marks)"
      ]
    },
    {
      "cell_type": "code",
      "execution_count": 5,
      "metadata": {
        "id": "bYgWiCpF2RSP"
      },
      "outputs": [],
      "source": [
        "global_feature_dict = {} # A global dictionary of features\n",
        "\n",
        "def to_feature_vector(tokens):\n",
        "    # Should return a dictionary containing features as keys, and weights as values\n",
        "    # DESCRIBE YOUR METHOD IN WORDS\n",
        "    feature_vector = {}\n",
        "    for token in tokens:\n",
        "        #each token is given a weight of 1\n",
        "        feature_vector[token] = 1\n",
        "        # Updating global_feature_dict, for new words, the value be the length of the dict so we can see at what number we encountered the new word and it will work as a unique ID\n",
        "        if token not in global_feature_dict:\n",
        "            global_feature_dict[token] = len(global_feature_dict)\n",
        "\n",
        "    return feature_vector"
      ]
    },
    {
      "cell_type": "code",
      "source": [
        "to_feature_vector(pre_process(\"hello world!! hello123\"))"
      ],
      "metadata": {
        "colab": {
          "base_uri": "https://localhost:8080/"
        },
        "id": "BZEVWsLynABH",
        "outputId": "14e2db6a-2a3a-44a4-ee87-212ed6033843"
      },
      "execution_count": 6,
      "outputs": [
        {
          "output_type": "execute_result",
          "data": {
            "text/plain": [
              "{'hello': 1, 'world': 1, 'hello123': 1}"
            ]
          },
          "metadata": {},
          "execution_count": 6
        }
      ]
    },
    {
      "cell_type": "code",
      "execution_count": 7,
      "metadata": {
        "id": "nowEFkuw2RSP"
      },
      "outputs": [],
      "source": [
        "# TRAINING AND VALIDATING OUR CLASSIFIER\n",
        "\n",
        "def train_classifier(data):\n",
        "    print(\"Training Classifier...\")\n",
        "    pipeline =  Pipeline([('svc', LinearSVC())])\n",
        "    return SklearnClassifier(pipeline).train(data)"
      ]
    },
    {
      "cell_type": "markdown",
      "metadata": {
        "id": "esn2ZVhh2RSQ"
      },
      "source": [
        "# Question 3: Cross-validation (20 marks)"
      ]
    },
    {
      "cell_type": "code",
      "execution_count": 8,
      "metadata": {
        "id": "NZb6Sghw2RSQ"
      },
      "outputs": [],
      "source": [
        "#solution\n",
        "from sklearn.metrics import classification_report, accuracy_score\n",
        "\n",
        "#function prints the classification report for each fold being tested and returns the average result of all folds\n",
        "def cross_validate(dataset, folds):\n",
        "    results = {'precision': 0, 'recall': 0, 'f1_score': 0, 'accuracy': 0}\n",
        "    fold_size = int(len(dataset)/folds) + 1\n",
        "\n",
        "    count=0\n",
        "\n",
        "    for i in range(0,len(dataset),int(fold_size)):\n",
        "        count = count+1\n",
        "        # insert code here that trains and tests on the 10 folds of data in the dataset\n",
        "        print(\"Fold start on items %d - %d\" % (i, i+fold_size))\n",
        "        # FILL IN THE METHOD HERE\n",
        "        #training on dataset[:i]+dataset [i+foldsize], which will be 9/10 of the training data\n",
        "        classifier = train_classifier(dataset[:i] + dataset[i+fold_size:])\n",
        "        #testing the trained classifier on dataset[i:i+folsize], or on 1/10 training data\n",
        "        test_pred = predict_labels([x[0] for x in dataset[i:i+fold_size]], classifier) #labels the classifier predicts\n",
        "        #actual labels\n",
        "        test_true = [t[1] for t in dataset[i:i+fold_size]]\n",
        "        #reporting precision, recall, f1_score\n",
        "        fold_report = classification_report(test_true, test_pred, output_dict=True)\n",
        "        #reporting accuracy\n",
        "        fold_accuracy = accuracy_score(test_true, test_pred)\n",
        "\n",
        "        #printing metrics for eaxch fold\n",
        "        print(f'fold {count} report: ')\n",
        "        print(fold_report[\"weighted avg\"])\n",
        "        print(\"Accuracy: \", fold_accuracy)\n",
        "        print((\"_\"*50))\n",
        "\n",
        "        #adding all precision of different folds to have their sum, inorder to report the final precision as an average of precisions in all iterations\n",
        "        results['precision'] += fold_report['weighted avg']['precision']\n",
        "        #adding all recalls of different folds to have their sum, inorder to report the final recall as an average of recalls in all iterations\n",
        "        results['recall'] += fold_report['weighted avg']['recall']\n",
        "        #adding all f_1 scores of different folds to have their sum, inorder to report the final f1 score as an average of f1 scores in all iterations\n",
        "        results['f1_score'] += fold_report['weighted avg']['f1-score']\n",
        "        #adding all accuracies of different folds to have their sum, inorder to report the final accuracy as an average of accuracies in all iterations\n",
        "        results['accuracy'] += fold_accuracy\n",
        "\n",
        "    results['precision'] /= folds\n",
        "    results['recall'] /= folds\n",
        "    results['f1_score'] /= folds\n",
        "    results['accuracy'] /= folds\n",
        "\n",
        "\n",
        "    return results"
      ]
    },
    {
      "cell_type": "code",
      "execution_count": 9,
      "metadata": {
        "id": "1R3B6hqe2RSQ"
      },
      "outputs": [],
      "source": [
        "# PREDICTING LABELS GIVEN A CLASSIFIER\n",
        "\n",
        "def predict_labels(samples, classifier):\n",
        "    \"\"\"Assuming preprocessed samples, return their predicted labels from the classifier model.\"\"\"\n",
        "    return classifier.classify_many(samples)\n",
        "\n",
        "def predict_label_from_raw(sample, classifier):\n",
        "    \"\"\"Assuming raw text, return its predicted label from the classifier model.\"\"\"\n",
        "    return classifier.classify(to_feature_vector(preProcess(reviewSample)))"
      ]
    },
    {
      "cell_type": "code",
      "execution_count": 11,
      "metadata": {
        "colab": {
          "base_uri": "https://localhost:8080/"
        },
        "id": "JKIYvhMC2RSQ",
        "outputId": "c0c11cb8-246b-42a7-8baa-3df43288163d"
      },
      "outputs": [
        {
          "output_type": "stream",
          "name": "stdout",
          "text": [
            "Now 0 rawData, 0 trainData, 0 testData\n",
            "Preparing the dataset...\n",
            "Now 33540 rawData, 0 trainData, 0 testData\n",
            "Preparing training and test data...\n",
            "After split, 33540 rawData, 26832 trainData, 6708 testData\n",
            "Training Samples: \n",
            "26832\n",
            "Features: \n",
            "62249\n"
          ]
        }
      ],
      "source": [
        "# MAIN\n",
        "\n",
        "# loading reviews\n",
        "# initialize global lists that will be appended to by the methods below\n",
        "raw_data = []          # the filtered data from the dataset file\n",
        "train_data = []        # the pre-processed training data as a percentage of the total dataset\n",
        "test_data = []         # the pre-processed test data as a percentage of the total dataset\n",
        "\n",
        "\n",
        "# references to the data files\n",
        "data_file_path = 'sentiment-dataset.tsv'\n",
        "\n",
        "# Do the actual stuff (i.e. call the functions we've made)\n",
        "# We parse the dataset and put it in a raw data list\n",
        "print(\"Now %d rawData, %d trainData, %d testData\" % (len(raw_data), len(train_data), len(test_data)),\n",
        "      \"Preparing the dataset...\",sep='\\n')\n",
        "\n",
        "load_data(data_file_path)\n",
        "\n",
        "# We split the raw dataset into a set of training data and a set of test data (80/20)\n",
        "# You do the cross validation on the 80% (training data)\n",
        "# We print the number of training samples and the number of features before the split\n",
        "print(\"Now %d rawData, %d trainData, %d testData\" % (len(raw_data), len(train_data), len(test_data)),\n",
        "      \"Preparing training and test data...\",sep='\\n')\n",
        "\n",
        "split_and_preprocess_data(0.8)\n",
        "\n",
        "# We print the number of training samples and the number of features after the split\n",
        "print(\"After split, %d rawData, %d trainData, %d testData\" % (len(raw_data), len(train_data), len(test_data)),\n",
        "      \"Training Samples: \", len(train_data), \"Features: \", len(global_feature_dict), sep='\\n')\n"
      ]
    },
    {
      "cell_type": "code",
      "source": [
        "train_data[0]"
      ],
      "metadata": {
        "colab": {
          "base_uri": "https://localhost:8080/"
        },
        "id": "ZzKf9z4_ylSz",
        "outputId": "f40813ba-9fcd-4b16-dfa2-25edc6973cd2"
      },
      "execution_count": 12,
      "outputs": [
        {
          "output_type": "execute_result",
          "data": {
            "text/plain": [
              "({'literally': 1,\n",
              "  'so': 1,\n",
              "  'excited': 1,\n",
              "  'im': 1,\n",
              "  'going': 1,\n",
              "  'to': 1,\n",
              "  'a': 1,\n",
              "  'sam': 1,\n",
              "  'smith': 1,\n",
              "  'concert': 1,\n",
              "  'in': 1,\n",
              "  'october': 1},\n",
              " 'positive')"
            ]
          },
          "metadata": {},
          "execution_count": 12
        }
      ]
    },
    {
      "cell_type": "code",
      "execution_count": 13,
      "metadata": {
        "colab": {
          "base_uri": "https://localhost:8080/"
        },
        "id": "JLmLYEqK2RSQ",
        "outputId": "020764e4-4b43-45cc-86d9-4e5a4d1d13d4"
      },
      "outputs": [
        {
          "output_type": "stream",
          "name": "stdout",
          "text": [
            "Fold start on items 0 - 2684\n",
            "Training Classifier...\n",
            "fold 1 report: \n",
            "{'precision': 0.8437591582767621, 'recall': 0.8453800298062594, 'f1-score': 0.8444082337459935, 'support': 2684.0}\n",
            "Accuracy:  0.8453800298062594\n",
            "__________________________________________________\n",
            "Fold start on items 2684 - 5368\n",
            "Training Classifier...\n",
            "fold 2 report: \n",
            "{'precision': 0.8521254153112297, 'recall': 0.8535767511177347, 'f1-score': 0.8528084858366485, 'support': 2684.0}\n",
            "Accuracy:  0.8535767511177347\n",
            "__________________________________________________\n",
            "Fold start on items 5368 - 8052\n",
            "Training Classifier...\n",
            "fold 3 report: \n",
            "{'precision': 0.8031204711107905, 'recall': 0.8036512667660208, 'f1-score': 0.8033526848405785, 'support': 2684.0}\n",
            "Accuracy:  0.8036512667660208\n",
            "__________________________________________________\n",
            "Fold start on items 8052 - 10736\n",
            "Training Classifier...\n",
            "fold 4 report: \n",
            "{'precision': 0.843583699938909, 'recall': 0.8427719821162444, 'f1-score': 0.8426352809497366, 'support': 2684.0}\n",
            "Accuracy:  0.8427719821162444\n",
            "__________________________________________________\n",
            "Fold start on items 10736 - 13420\n",
            "Training Classifier...\n",
            "fold 5 report: \n",
            "{'precision': 0.837964736925175, 'recall': 0.8390461997019374, 'f1-score': 0.8383927396704828, 'support': 2684.0}\n",
            "Accuracy:  0.8390461997019374\n",
            "__________________________________________________\n",
            "Fold start on items 13420 - 16104\n",
            "Training Classifier...\n",
            "fold 6 report: \n",
            "{'precision': 0.8527505491766796, 'recall': 0.8543219076005961, 'f1-score': 0.8528801590366352, 'support': 2684.0}\n",
            "Accuracy:  0.8543219076005961\n",
            "__________________________________________________\n",
            "Fold start on items 16104 - 18788\n",
            "Training Classifier...\n",
            "fold 7 report: \n",
            "{'precision': 0.8488117486364781, 'recall': 0.8498509687034277, 'f1-score': 0.8492234449100039, 'support': 2684.0}\n",
            "Accuracy:  0.8498509687034277\n",
            "__________________________________________________\n",
            "Fold start on items 18788 - 21472\n",
            "Training Classifier...\n",
            "fold 8 report: \n",
            "{'precision': 0.8372303557915677, 'recall': 0.8383010432190761, 'f1-score': 0.8376672862939951, 'support': 2684.0}\n",
            "Accuracy:  0.8383010432190761\n",
            "__________________________________________________\n",
            "Fold start on items 21472 - 24156\n",
            "Training Classifier...\n",
            "fold 9 report: \n",
            "{'precision': 0.8444960181541773, 'recall': 0.8461251862891207, 'f1-score': 0.8449498745483617, 'support': 2684.0}\n",
            "Accuracy:  0.8461251862891207\n",
            "__________________________________________________\n",
            "Fold start on items 24156 - 26840\n",
            "Training Classifier...\n",
            "fold 10 report: \n",
            "{'precision': 0.8556009308906868, 'recall': 0.8565022421524664, 'f1-score': 0.855935546173465, 'support': 2676.0}\n",
            "Accuracy:  0.8565022421524664\n",
            "__________________________________________________\n"
          ]
        },
        {
          "output_type": "execute_result",
          "data": {
            "text/plain": [
              "{'precision': 0.8419443084212455,\n",
              " 'recall': 0.8429527577472884,\n",
              " 'f1_score': 0.8422253736005901,\n",
              " 'accuracy': 0.8429527577472884}"
            ]
          },
          "metadata": {},
          "execution_count": 13
        }
      ],
      "source": [
        "cross_validate(train_data, 10)  # will work and output overall performance of p, r, f-score when cv implemented"
      ]
    },
    {
      "cell_type": "markdown",
      "metadata": {
        "id": "OML4aF3O2RSQ"
      },
      "source": [
        "# Question 4: Error Analysis (20 marks)"
      ]
    },
    {
      "cell_type": "code",
      "execution_count": 39,
      "metadata": {
        "id": "6gyfqAll2RSQ"
      },
      "outputs": [],
      "source": [
        "from sklearn import metrics\n",
        "import matplotlib.pyplot as plt\n",
        "# a function to make the confusion matrix readable and pretty\n",
        "def confusion_matrix_heatmap(y_test, preds, labels):\n",
        "    \"\"\"Function to plot a confusion matrix\"\"\"\n",
        "    # pass labels to the confusion matrix function to ensure right order\n",
        "    # cm = metrics.confusion_matrix(y_test, preds, labels)\n",
        "    cm = metrics.confusion_matrix(y_test, preds, labels=labels)\n",
        "    fig = plt.figure(figsize=(10,10))\n",
        "    ax = fig.add_subplot(111)\n",
        "    cax = ax.matshow(cm)\n",
        "    plt.title('Confusion matrix of the classifier')\n",
        "    fig.colorbar(cax)\n",
        "    ax.set_xticks(np.arange(len(labels)))\n",
        "    ax.set_yticks(np.arange(len(labels)))\n",
        "    ax.set_xticklabels( labels, rotation=45)\n",
        "    ax.set_yticklabels( labels)\n",
        "\n",
        "    for i in range(len(cm)):\n",
        "        for j in range(len(cm)):\n",
        "            text = ax.text(j, i, cm[i, j],\n",
        "                           ha=\"center\", va=\"center\", color=\"w\")\n",
        "\n",
        "    plt.xlabel('Predicted')\n",
        "    plt.ylabel('True')\n",
        "\n",
        "    # fix for mpl bug that cuts off top/bottom of seaborn viz:\n",
        "    b, t = plt.ylim() # discover the values for bottom and top\n",
        "    b += 0.5 # Add 0.5 to the bottom\n",
        "    t -= 0.5 # Subtract 0.5 from the top\n",
        "    plt.ylim(b, t) # update the ylim(bottom, top) values\n",
        "    plt.show() # ta-da!\n",
        "    plt.show()"
      ]
    },
    {
      "cell_type": "code",
      "source": [
        "\n",
        "def error_analysis(dataset, labels = [\"positive\",\"negative\"],folds=10):\n",
        "    # using the first fold for analysis\n",
        "    fold_size = int(len(dataset) / folds) + 1\n",
        "\n",
        "    #train the classifier on the first 9 folds\n",
        "    classifier = train_classifier(dataset[fold_size:])\n",
        "    #making predictions on the test data (1 fold) with the trained classifier\n",
        "    test_pred = predict_labels([x[0] for x in dataset[:fold_size]], classifier)\n",
        "    test_true = [t[1] for t in dataset[:fold_size]]\n",
        "\n",
        "    #print(test_pred)\n",
        "    #visualizing the confusion matrix\n",
        "    confusion_matrix_heatmap(test_true, test_pred, labels=labels)\n",
        "\n",
        "    #gathering false positives and false negatives\n",
        "    false_positives = []\n",
        "    false_negatives = []\n",
        "\n",
        "    #features and raw data of the testing fold\n",
        "    test_data = dataset[:fold_size]\n",
        "    raw_test = raw_data[:fold_size]\n",
        "\n",
        "    for i, (true_label, pred_label) in enumerate(zip(test_true, test_pred)):\n",
        "        #print(f\"True Label: {true_label}, Predicted Label: {pred_label}\")\n",
        "        if true_label == \"positive\" and pred_label ==\"negative\":  # False Negative\n",
        "            #print(i)\n",
        "            false_negatives.append((test_data[i],raw_test[i]))\n",
        "        elif true_label == \"negative\" and pred_label == \"positive\":  # False Positive\n",
        "            false_positives.append((test_data[i],raw_test[i]))\n",
        "\n",
        "\n",
        "    with open(\"false_positive_error_analysis.txt\", \"w\") as fp_file:\n",
        "        for data,raw in false_positives:\n",
        "            features, label = data\n",
        "            raw_sentence,_ = raw\n",
        "            fp_file.write(f\"False Positive: Original Text: {raw_sentence} -- Actual Label: {label} \\n\")\n",
        "            fp_file.write(f\"Extracted Features: {features}\\n\\n\")\n",
        "\n",
        "    with open(\"false_negative_error_analysis.txt\", \"w\") as fn_file:\n",
        "        for data,raw in false_negatives:\n",
        "            features, label = data\n",
        "            raw_sentence,_ = raw\n",
        "            fn_file.write(f\"False Negative: Original Text: {raw_sentence} -- Actual Label: {label} \\n\")\n",
        "            fn_file.write(f\"Extracted Features: {features}\\n\\n\")\n",
        "\n",
        "    #metrics from confusion matrix and classification report\n",
        "    report = classification_report(test_true, test_pred, output_dict=True)\n",
        "    print(classification_report(test_true, test_pred))\n",
        "\n",
        "    # Analysis output\n",
        "    false_positives_count = sum(1 for true, pred in zip(test_true, test_pred) if true != \"positive\" and pred == \"positive\")\n",
        "    false_negatives_count = sum(1 for true, pred in zip(test_true, test_pred) if true == \"positive\" and pred != \"positive\")\n",
        "\n",
        "    print(f\"False Positives: {false_positives_count}\")\n",
        "    print(f\"False Negatives: {false_negatives_count}\")\n",
        "\n",
        "    print(f\"Total actual poitive Samples: {np.sum(np.array(test_true) == 'positive')}\")\n",
        "    print(f\"Total actual negative Samples: {np.sum(np.array(test_true) == 'negative')}\")\n",
        "\n",
        "    return report"
      ],
      "metadata": {
        "id": "x9MtmwitHLKK"
      },
      "execution_count": 69,
      "outputs": []
    },
    {
      "cell_type": "code",
      "source": [
        "\n",
        "error_analysis(train_data, labels = [\"positive\",\"negative\"],folds=10)"
      ],
      "metadata": {
        "colab": {
          "base_uri": "https://localhost:8080/",
          "height": 1000
        },
        "id": "Atm7Y_mHpDuQ",
        "outputId": "e5344300-39f4-4150-c679-e64f049fcac9"
      },
      "execution_count": 70,
      "outputs": [
        {
          "output_type": "stream",
          "name": "stdout",
          "text": [
            "Training Classifier...\n"
          ]
        },
        {
          "output_type": "display_data",
          "data": {
            "text/plain": [
              "<Figure size 1000x1000 with 2 Axes>"
            ],
            "image/png": "[encoded data removed]"
          },
          "metadata": {}
        },
        {
          "output_type": "stream",
          "name": "stdout",
          "text": [
            "              precision    recall  f1-score   support\n",
            "\n",
            "    negative       0.76      0.72      0.74       818\n",
            "    positive       0.88      0.90      0.89      1866\n",
            "\n",
            "    accuracy                           0.85      2684\n",
            "   macro avg       0.82      0.81      0.82      2684\n",
            "weighted avg       0.84      0.85      0.84      2684\n",
            "\n",
            "False Positives: 225\n",
            "False Negatives: 190\n",
            "Total actual poitive Samples: 1866\n",
            "Total actual negative Samples: 818\n"
          ]
        },
        {
          "output_type": "execute_result",
          "data": {
            "text/plain": [
              "{'negative': {'precision': 0.7573435504469987,\n",
              "  'recall': 0.7249388753056235,\n",
              "  'f1-score': 0.740787008119925,\n",
              "  'support': 818.0},\n",
              " 'positive': {'precision': 0.8816412414518674,\n",
              "  'recall': 0.8981779206859593,\n",
              "  'f1-score': 0.8898327581629945,\n",
              "  'support': 1866.0},\n",
              " 'accuracy': 0.8453800298062594,\n",
              " 'macro avg': {'precision': 0.8194923959494331,\n",
              "  'recall': 0.8115583979957914,\n",
              "  'f1-score': 0.8153098831414598,\n",
              "  'support': 2684.0},\n",
              " 'weighted avg': {'precision': 0.8437591582767621,\n",
              "  'recall': 0.8453800298062594,\n",
              "  'f1-score': 0.8444082337459935,\n",
              "  'support': 2684.0}}"
            ]
          },
          "metadata": {},
          "execution_count": 70
        }
      ]
    },
    {
      "cell_type": "code",
      "source": [
        "raw_data[0]"
      ],
      "metadata": {
        "colab": {
          "base_uri": "https://localhost:8080/"
        },
        "id": "22llBvb-cyK3",
        "outputId": "cc2ec452-8c65-40a3-e760-13efde08ce0c"
      },
      "execution_count": 38,
      "outputs": [
        {
          "output_type": "execute_result",
          "data": {
            "text/plain": [
              "(\"Literally so excited I'm going to a Sam Smith concert in October\",\n",
              " 'positive')"
            ]
          },
          "metadata": {},
          "execution_count": 38
        }
      ]
    },
    {
      "cell_type": "code",
      "source": [
        "test_data[0]"
      ],
      "metadata": {
        "colab": {
          "base_uri": "https://localhost:8080/"
        },
        "id": "mdpZKi1dc4BF",
        "outputId": "2d9a02b2-9a65-44a1-e688-c678b6961a38"
      },
      "execution_count": 37,
      "outputs": [
        {
          "output_type": "execute_result",
          "data": {
            "text/plain": [
              "({'tomorrow': 1,\n",
              "  'well': 1,\n",
              "  'release': 1,\n",
              "  'our': 1,\n",
              "  '58th': 1,\n",
              "  'episode': 1,\n",
              "  'of': 1,\n",
              "  'hsonair': 1,\n",
              "  'profiling': 1,\n",
              "  'very': 1,\n",
              "  'own': 1,\n",
              "  'alissadossantos': 1,\n",
              "  'talk': 1,\n",
              "  'about': 1,\n",
              "  'storytelling': 1,\n",
              "  'and': 1,\n",
              "  'beyonce': 1},\n",
              " 'positive')"
            ]
          },
          "metadata": {},
          "execution_count": 37
        }
      ]
    },
    {
      "cell_type": "markdown",
      "metadata": {
        "id": "FGz-iDXz2RSQ"
      },
      "source": [
        "# Questions 5: Optimising pre-processing and feature extraction (30 marks)"
      ]
    },
    {
      "cell_type": "markdown",
      "metadata": {
        "id": "QknyXiYq2RSQ"
      },
      "source": [
        "**Note:** it is advisable to implement question 5 in a separate notebook where you further develop the pre-processing and feature extraction functions you implemented above."
      ]
    },
    {
      "cell_type": "code",
      "execution_count": null,
      "metadata": {
        "id": "MGatHN0h2RSQ"
      },
      "outputs": [],
      "source": [
        "# Finally, check the accuracy of your classifier by training on all the traning data\n",
        "# and testing on the test set\n",
        "# Will only work once all functions are complete\n",
        "functions_complete = False  # set to True once you're happy with your methods for cross val\n",
        "if functions_complete:\n",
        "    print(test_data[0])   # have a look at the first test data instance\n",
        "    classifier = train_classifier(train_data)  # train the classifier\n",
        "    test_true = [t[1] for t in test_data]   # get the ground-truth labels from the data\n",
        "    test_pred = predict_labels([x[0] for x in test_data], classifier)  # classify the test data to get predicted labels\n",
        "    final_scores = precision_recall_fscore_support(test_true, test_pred, average='weighted') # evaluate\n",
        "    print(\"Done training!\")\n",
        "    print(\"Precision: %f\\nRecall: %f\\nF Score:%f\" % final_scores[:3])"
      ]
    },
    {
      "cell_type": "code",
      "execution_count": null,
      "metadata": {
        "id": "BcK9KUaU2RSQ"
      },
      "outputs": [],
      "source": []
    },
    {
      "cell_type": "code",
      "execution_count": null,
      "metadata": {
        "id": "RoG5EQot2RSQ"
      },
      "outputs": [],
      "source": []
    }
  ],
  "metadata": {
    "kernelspec": {
      "display_name": "Python 3",
      "language": "python",
      "name": "python3"
    },
    "language_info": {
      "codemirror_mode": {
        "name": "ipython",
        "version": 3
      },
      "file_extension": ".py",
      "mimetype": "text/x-python",
      "name": "python",
      "nbconvert_exporter": "python",
      "pygments_lexer": "ipython3",
      "version": "3.12.3"
    },
    "colab": {
      "provenance": []
    }
  },
  "nbformat": 4,
  "nbformat_minor": 0
}